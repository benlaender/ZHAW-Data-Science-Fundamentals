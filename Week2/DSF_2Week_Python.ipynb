{
 "cells": [
  {
   "cell_type": "markdown",
   "metadata": {},
   "source": [
    "# <div align=\"center\"> DSF 2. Week: Python Basics"
   ]
  },
  {
   "cell_type": "markdown",
   "metadata": {},
   "source": [
    "In this exercise, you will learn some of the basics of Python.\n",
    "\n",
    "If you are already familiar with Python you can skim through the instruction and only focus on the small exercises at each section, and then go to the challenges at the end of the document.\n",
    "\n",
    "**Remember**, you have to run the cell (`Ctrl + Enter`) to see its output."
   ]
  },
  {
   "cell_type": "markdown",
   "metadata": {},
   "source": [
    "## Contents:\n",
    "1. **Hello world!**\n",
    "1. **Variables**\n",
    "1. **Operations**\n",
    "1. **Containers**\n",
    "1. **Conditionals**\n",
    "1. **Loops**\n",
    "1. **Functions**\n",
    "1. **Challenges**"
   ]
  },
  {
   "cell_type": "markdown",
   "metadata": {},
   "source": [
    "## 1. Hello World!\n",
    "Let's start by printing text! We can print almost anything. Below are examples with text and numbers."
   ]
  },
  {
   "cell_type": "code",
   "execution_count": null,
   "metadata": {},
   "outputs": [],
   "source": [
    "print(\"Hello World!\")\n",
    "print(5)\n",
    "print(5.1)\n",
    "print(True)\n",
    "print(25 * 2)"
   ]
  },
  {
   "cell_type": "markdown",
   "metadata": {},
   "source": [
    "Commas in the print function will insert spaces between the entries. This will be particularly useful when we want to print a variable with unknown value, or print many things of different data types."
   ]
  },
  {
   "cell_type": "code",
   "execution_count": null,
   "metadata": {},
   "outputs": [],
   "source": [
    "print(\"Give\", \"me\", \"some\", \"space.\")\n",
    "\n",
    "print(\"The current year is\", 2021)\n",
    "\n",
    "x = 5\n",
    "print(\"Jake is\", x, \"years old.\")"
   ]
  },
  {
   "cell_type": "markdown",
   "metadata": {},
   "source": [
    "```\\n``` gives a newline, and ```\\t``` gives a tab."
   ]
  },
  {
   "cell_type": "code",
   "execution_count": null,
   "metadata": {},
   "outputs": [],
   "source": [
    "print(\"This is the first line.\\nThis is the second line, with a \\t tab.\")"
   ]
  },
  {
   "cell_type": "markdown",
   "metadata": {},
   "source": [
    "**Exercise: Using only one print function, print your name, age and favorite ZHAW course on three different lines.**"
   ]
  },
  {
   "cell_type": "code",
   "execution_count": 1,
   "metadata": {},
   "outputs": [
    {
     "name": "stdout",
     "output_type": "stream",
     "text": [
      "Benito Bodtländer \n",
      "21 years old \n",
      "Enterprise Architecture\n"
     ]
    }
   ],
   "source": [
    "# enter your code here!\n",
    "\n",
    "print(\"Benito Bodtländer \\n21 years old \\nEnterprise Architecture\")"
   ]
  },
  {
   "cell_type": "markdown",
   "metadata": {},
   "source": [
    "## 2. Variables\n",
    "### Declare and initialize?\n",
    "C++ is **statically typed** while Python is **dynamically typed**. This means that in C++, variable types are defined during compilation, while in Python they are defined during run-time.\n",
    "\n",
    "Because of this, in C++ you need to both *declare* a variable and its type, and then *initialize* it. In Python, you only need to initialize it. While types exist in Python, they are not written out when defining a variable."
   ]
  },
  {
   "cell_type": "code",
   "execution_count": null,
   "metadata": {},
   "outputs": [],
   "source": [
    "# defining an integer variable\n",
    "x = 10\n",
    "# defining a double variable\n",
    "y = 3.14\n",
    "# defining a string\n",
    "word = \"Epoch of Reionisation\"\n",
    "\n",
    "# printing the variables\n",
    "print(x)\n",
    "print(y)\n",
    "print(word)"
   ]
  },
  {
   "cell_type": "markdown",
   "metadata": {},
   "source": [
    "In the above example it's easy to see that x is an integer, y is a double, and word is a string. But if you are unsure you can always check the type of a variable using ```type(someVariable)```."
   ]
  },
  {
   "cell_type": "code",
   "execution_count": null,
   "metadata": {},
   "outputs": [],
   "source": [
    "print( type(x) )\n",
    "print( type(y) )\n",
    "print( type(word) )"
   ]
  },
  {
   "cell_type": "markdown",
   "metadata": {},
   "source": [
    "### Changing type dynamically\n",
    "A blessing and a curse of Python is that you can change the type of a variable on the fly. Be careful that you don't accidentally change the type of variables unless desired!"
   ]
  },
  {
   "cell_type": "code",
   "execution_count": null,
   "metadata": {},
   "outputs": [],
   "source": [
    "# define an integer\n",
    "z = 7\n",
    "# redefine it as a string\n",
    "z = \"Hello\"\n",
    "\n",
    "print(z)"
   ]
  },
  {
   "cell_type": "markdown",
   "metadata": {},
   "source": [
    "### Type conversion\n",
    "If you have the number 64 stored as a string, but want to use it in computation, you can **cast** the string to an integer. To cast a variable to a different type, simply \"wrap\" it inside the type name. You can cast variables that \"make sense\" to cast. For example, you can cast 13 to a string \"13\" but you can't cast \"hello world!\" to a double (what would that even mean?)."
   ]
  },
  {
   "cell_type": "code",
   "execution_count": null,
   "metadata": {
    "scrolled": false
   },
   "outputs": [],
   "source": [
    "x = \"64\"\n",
    "# Need to cast x to an integer otherwise you get an error because you can't add an 'int' with a 'string'\n",
    "print( 1 + int(x) )"
   ]
  },
  {
   "cell_type": "markdown",
   "metadata": {},
   "source": [
    "Here is a list of common casts:\n",
    "* Integer: ```int()```\n",
    "* Double/Float: ```float()```\n",
    "* String: ```str()```\n",
    "\n",
    "**Exercise: Create a variable holding a decimal number and cast it to an integer. What happens with the value?**"
   ]
  },
  {
   "cell_type": "code",
   "execution_count": 3,
   "metadata": {},
   "outputs": [
    {
     "name": "stdout",
     "output_type": "stream",
     "text": [
      "20.76\n",
      "20\n"
     ]
    }
   ],
   "source": [
    "# enter your code here!\n",
    "\n",
    "x = 20.76\n",
    "print(x)\n",
    "print(int(x))"
   ]
  },
  {
   "cell_type": "markdown",
   "metadata": {},
   "source": [
    "## 3. Operations\n",
    "### Numerical\n",
    "Operations of numbers work similar to C++."
   ]
  },
  {
   "cell_type": "code",
   "execution_count": 18,
   "metadata": {},
   "outputs": [
    {
     "name": "stdout",
     "output_type": "stream",
     "text": [
      "10\n",
      "-10\n",
      "9\n",
      "50.0\n",
      "3\n",
      "1\n",
      "1024\n"
     ]
    }
   ],
   "source": [
    "# addition\n",
    "print(5 + 5)\n",
    "\n",
    "# subtraction\n",
    "print(10 - 20)\n",
    "\n",
    "# multiplication\n",
    "print(3 * 3)\n",
    "\n",
    "# division\n",
    "print(100 / 2)\n",
    "\n",
    "# integer division\n",
    "print(7 // 2)\n",
    "\n",
    "# remainder\n",
    "print(7 % 2)\n",
    "\n",
    "# power\n",
    "print(2**10)"
   ]
  },
  {
   "cell_type": "markdown",
   "metadata": {},
   "source": [
    "### Strings\n",
    "We can use ```+``` for strings to concatenate them."
   ]
  },
  {
   "cell_type": "code",
   "execution_count": 17,
   "metadata": {},
   "outputs": [
    {
     "name": "stdout",
     "output_type": "stream",
     "text": [
      "Återvänd till apa.\n"
     ]
    }
   ],
   "source": [
    "fake_language = \"Återvänd\" + \" till\" + \" apa.\"\n",
    "print(fake_language)"
   ]
  },
  {
   "cell_type": "markdown",
   "metadata": {},
   "source": [
    "### Operations with variables\n",
    "If a variable is an integer or float, then we can do operations like normal with them."
   ]
  },
  {
   "cell_type": "code",
   "execution_count": 16,
   "metadata": {},
   "outputs": [
    {
     "name": "stdout",
     "output_type": "stream",
     "text": [
      "z = 3\n"
     ]
    }
   ],
   "source": [
    "x = 5\n",
    "y = x + 3\n",
    "z = y - x\n",
    "print(\"z =\", z)"
   ]
  },
  {
   "cell_type": "markdown",
   "metadata": {},
   "source": [
    "We can also use increment, decrement, and similar operators to update the value of a variable."
   ]
  },
  {
   "cell_type": "code",
   "execution_count": 15,
   "metadata": {},
   "outputs": [],
   "source": [
    "x = 100\n",
    "\n",
    "# same as x = x + 1\n",
    "x += 1\n",
    "\n",
    "# same as x = x -1\n",
    "x -= 1\n",
    "\n",
    "# same as x = x * 5\n",
    "x *= 5\n",
    "\n",
    "# same as x = x / 10\n",
    "x /= 10\n",
    "\n",
    "# same as x // 3\n",
    "x //= 3\n",
    "\n",
    "# same as x = x % 6\n",
    "x %= 6\n",
    "\n",
    "# same as x = x**5\n",
    "x **= 5"
   ]
  },
  {
   "cell_type": "markdown",
   "metadata": {},
   "source": [
    "A very common use of this is to increment a variable by one: ```x += 1```"
   ]
  },
  {
   "cell_type": "markdown",
   "metadata": {},
   "source": [
    "## 4. Containers\n",
    "Variables like integers, floats and strings are good when we only have one value to keep track of. If we have multiple values we can use a container like:\n",
    "\n",
    "1. List\n",
    "1. Dictionary\n",
    "\n",
    "There are many more containers but today we will focus on these two.\n",
    "\n",
    "### Lists\n",
    "Lists are similar to arrays in C++, except that can change in size. Common operations on a list include:\n",
    "\n",
    "1. **Access single element** ```my_list[0]``` will retrieve the first element in the list.\n",
    "1. **Append to the list** ```my_list.append(\"ZHAW\")```\n",
    "1. **Delete items at between index a and b** ```del my_list[a:b]``` if you leave a empty, start from beginning to b, and vice versa.\n",
    "1. **Remove a certain element** ```my_list.remove(\"rabbit\")``` will remove \"rabbit\" if it exists in the list.\n",
    "1. **Sum over all values** ```sum(someList)```\n",
    "1. **Maximum/minimum value in the list** ```max(myList)``` or ```min(myList)```\n",
    "\n",
    "A list is created using ```[]```."
   ]
  },
  {
   "cell_type": "code",
   "execution_count": 14,
   "metadata": {},
   "outputs": [
    {
     "name": "stdout",
     "output_type": "stream",
     "text": [
      "Years: [1997, 2000, 2002]\n",
      "Second element of years 2000\n",
      "Last element of years 2002\n"
     ]
    }
   ],
   "source": [
    "# create a list with some integers\n",
    "years = [1997, 2000, 2002]\n",
    "\n",
    "# elements don't have to share datatype!\n",
    "some_list = [1, \"hello\", 2.7]\n",
    "\n",
    "# you can print lists\n",
    "print(\"Years:\",years)\n",
    "\n",
    "# print second element of a list and last element\n",
    "print(\"Second element of years\", years[1])\n",
    "print(\"Last element of years\", years[-1])\n",
    "\n",
    "# change the 1st element of a list\n",
    "years[0] = 1776\n",
    "\n",
    "# append to the list\n",
    "years.append(2025)\n",
    "\n",
    "# sum over all values\n",
    "sum_of_years = sum(years)\n",
    "\n",
    "# minimum year\n",
    "minimum = min(years)\n",
    "\n",
    "# remove an element\n",
    "years.remove(2000)\n",
    "\n",
    "# delete first element\n",
    "del years[0]\n",
    "\n",
    "# you can also create an empty list and then append stuff to it\n",
    "empty_list = []"
   ]
  },
  {
   "cell_type": "markdown",
   "metadata": {},
   "source": [
    "### Exercise: Create a list with your name (string), age (integer), height in meters (double), and favorite animal (string). After this, change the animal element to \"Penguin\"."
   ]
  },
  {
   "cell_type": "code",
   "execution_count": 19,
   "metadata": {},
   "outputs": [
    {
     "name": "stdout",
     "output_type": "stream",
     "text": [
      "['Benito Bodtländer', 21, 1.85, 'dog']\n",
      "['Benito Bodtländer', 21, 1.85, 'Penguin']\n"
     ]
    }
   ],
   "source": [
    "# enter your code here!\n",
    "Firstlist = [\"Benito Bodtländer\", 21, 1.85, \"dog\"]\n",
    "\n",
    "print(Firstlist)\n",
    "\n",
    "Firstlist[3] = \"Penguin\"\n",
    "\n",
    "print(Firstlist)\n",
    "\n"
   ]
  },
  {
   "cell_type": "markdown",
   "metadata": {},
   "source": [
    "### Dictionaries\n",
    "The basic idea is that the **value** of the elements in the container is tied to a **key**. To access a value in a dictionary, we use the key, not the position like in a list. This is very useful when we want to access a certain value given some other value, like a list of students and their grades. \n",
    "\n",
    "A dictionary is created using ```{}```.\n",
    "\n",
    "The keys and values can be any datatype, and they don't need to be the same datatype."
   ]
  },
  {
   "cell_type": "code",
   "execution_count": 20,
   "metadata": {},
   "outputs": [
    {
     "name": "stdout",
     "output_type": "stream",
     "text": [
      "{'Axel': 4.0, 'Albert': 5.5, 'Michael': 6.0}\n",
      "Grade of Axel 4.0\n",
      "{'Axel': 6.0, 'Albert': 5.5, 'Michael': 6.0}\n",
      "{'Axel': 6.0, 'Albert': 5.5, 'Michael': 6.0, 'Kenyan Drake': 5.0}\n"
     ]
    }
   ],
   "source": [
    "# A dictionary initiliazed with keys and values: Keys are names, values are grades\n",
    "grades = {\"Axel\": 4.0, \"Albert\": 5.5, \"Michael\": 6.0}\n",
    "print(grades)\n",
    "\n",
    "# access the value via the key\n",
    "print(\"Grade of Axel\", grades[\"Axel\"])\n",
    "\n",
    "# I can change the value as well\n",
    "grades[\"Axel\"] = 6.0\n",
    "print(grades)\n",
    "\n",
    "# I can also add a completely new person to the dictionary\n",
    "grades[\"Kenyan Drake\"] = 5.0\n",
    "print(grades)\n",
    "\n",
    "# Create an empty dictionary\n",
    "empty_dictionary = {}"
   ]
  },
  {
   "cell_type": "markdown",
   "metadata": {},
   "source": [
    "**Exercise: Create a dictionary with keys \"year\", \"month\" and \"day\" and initialize values to today's date. Then, increment the day by 1.**"
   ]
  },
  {
   "cell_type": "code",
   "execution_count": 24,
   "metadata": {},
   "outputs": [
    {
     "name": "stdout",
     "output_type": "stream",
     "text": [
      "Today is the 26 of  September   2023\n",
      "Today is the 27 of  September   2023\n"
     ]
    }
   ],
   "source": [
    "# enter your code here!\n",
    "\n",
    "date = {\"year\": 2023, \"month\": \"September\", \"day\": 26}\n",
    "\n",
    "print (\"Today is the\", date[\"day\"], \"of \", date[\"month\"], \" \", date[\"year\"])\n",
    "\n",
    "date[\"day\"] = date[\"day\"] + 1\n",
    "\n",
    "print (\"Today is the\", date[\"day\"], \"of \", date[\"month\"], \" \", date[\"year\"])\n"
   ]
  },
  {
   "cell_type": "markdown",
   "metadata": {},
   "source": [
    "## 5. Conditionals\n",
    "### if, elif, else\n",
    "The syntax for if-else statements is very simple. **However**, notice that unlike C++, there are no brackets enclosing the block of code belonging to the if-statement! Instead, there is only indentation. This is true in general and not only for if-statements. **In Python, indentation plays the role of brackets. Make sure your indentations are aligned properly so that code belonging to the same block doesn't end up in the wrong block.** The if-statement ends when at the first line of **unindented** code."
   ]
  },
  {
   "cell_type": "code",
   "execution_count": 25,
   "metadata": {
    "scrolled": true
   },
   "outputs": [
    {
     "name": "stdout",
     "output_type": "stream",
     "text": [
      "You will only see this if x is positive\n",
      "x is 5\n"
     ]
    }
   ],
   "source": [
    "x = 5\n",
    "\n",
    "# if\n",
    "if x == 10:\n",
    "    print(\"You will only see this if x was 10\")\n",
    "\n",
    "    \n",
    "# if else\n",
    "if x > 0:\n",
    "    print(\"You will only see this if x is positive\")\n",
    "else:\n",
    "    print(\"You will only see this if x is zero or negative\")\n",
    "    \n",
    "# if, else if, and else\n",
    "if x > 100:\n",
    "    print(\"x is over 100\")\n",
    "elif x == 5:\n",
    "    print(\"x is 5\")\n",
    "else:\n",
    "    print(\"x is neither 5 nor over 100\")"
   ]
  },
  {
   "cell_type": "markdown",
   "metadata": {},
   "source": [
    "### Operations valid in conditionals\n",
    "Below is a table with operations that can be used in conditionals.\n",
    "\n",
    "| **Symbol** | **Operation** | **Example (Value)** |\n",
    "|----:|---------------:|-----------:\n",
    "| == | is equal to | 5 == 5 (True) |\n",
    "| **is** | is equal to (NOTE: single = is assignment, double == is 'equal to') |\n",
    "| < | less than | |\n",
    "| >= | greater or equal than | |\n",
    "| <= | less or equal than | |\n",
    "| **or** | logical OR | True or False (True) |\n",
    "| **and** | logical AND | True and False (False) |\n",
    "| **in** | checks whether something is inside a container | \"james\" in list_of_names (True if James is in the list of names) |"
   ]
  },
  {
   "cell_type": "markdown",
   "metadata": {},
   "source": [
    "Below is an example of ```and``` and ```or```."
   ]
  },
  {
   "cell_type": "code",
   "execution_count": 27,
   "metadata": {},
   "outputs": [
    {
     "name": "stdout",
     "output_type": "stream",
     "text": [
      "What is the truth value for this/that?\n",
      "one is true\n",
      "\n",
      "Is 'apple' in the fruit list? apple\n"
     ]
    }
   ],
   "source": [
    "this = True\n",
    "that = False\n",
    "\n",
    "print(\"What is the truth value for this/that?\")\n",
    "if this and that:\n",
    "    print(\"both are true\")\n",
    "elif this or that:\n",
    "    print(\"one is true\")\n",
    "else:\n",
    "    print(\"neither are true\")\n",
    "\n",
    "print(\"\\nIs 'apple' in the fruit list?\", \"apple\" in fruits) #mistake in the code"
   ]
  },
  {
   "cell_type": "markdown",
   "metadata": {},
   "source": [
    "### Exercise: Define a variable x = 3038 write a conditional that will print whether x is divisible by 7 or not"
   ]
  },
  {
   "cell_type": "code",
   "execution_count": 29,
   "metadata": {},
   "outputs": [
    {
     "name": "stdout",
     "output_type": "stream",
     "text": [
      "3039  is not divisible. There will be a rest of  1\n"
     ]
    }
   ],
   "source": [
    "# enter your code here\n",
    "\n",
    "x = 3039\n",
    "\n",
    "if x % 7 == 0:\n",
    "    print(x, \" is divisible by 7\")\n",
    "else:\n",
    "    print(x, \" is not divisible. There will be a rest of \", x%7)"
   ]
  },
  {
   "cell_type": "markdown",
   "metadata": {},
   "source": [
    "## 6. Loops\n",
    "There are two types of loops in Python: ```for``` and ```while```. Use the For loop when you know how many times you want to iterate the loop. Use the While loop when you don't know how many times you want to iterate the loop.\n",
    "\n",
    "In C++ you use brackets {} to indicate the block of code belonging to a loop. In Python we use **indentation**."
   ]
  },
  {
   "cell_type": "markdown",
   "metadata": {},
   "source": [
    "### For loops\n",
    "In Python For loops iterate over elements in a sequence (either a list, a tuple, a dictionary, a set, or a string). Unlike C++, you do not need to define an incrementing indexing variable (such as ```i```)."
   ]
  },
  {
   "cell_type": "code",
   "execution_count": 30,
   "metadata": {},
   "outputs": [
    {
     "name": "stdout",
     "output_type": "stream",
     "text": [
      "apple\n",
      "banana\n",
      "feijoa\n"
     ]
    }
   ],
   "source": [
    "# create a list\n",
    "fruits = [\"apple\", \"banana\", \"feijoa\"]\n",
    "\n",
    "# iterate through the items of the list and print them\n",
    "for f in fruits:\n",
    "    print(f)"
   ]
  },
  {
   "cell_type": "markdown",
   "metadata": {},
   "source": [
    "When iterating through dictionaries, your iterator will be the keys of the dictionary."
   ]
  },
  {
   "cell_type": "code",
   "execution_count": 31,
   "metadata": {},
   "outputs": [
    {
     "name": "stdout",
     "output_type": "stream",
     "text": [
      "Key: Hanna Value: 4\n",
      "Key: Markus Value: 3\n",
      "Key: Amat Value: 5\n"
     ]
    }
   ],
   "source": [
    "# create a dictionary\n",
    "scores = {\"Hanna\": 4, \"Markus\": 3, \"Amat\": 5}\n",
    "\n",
    "# iterate through its keys\n",
    "for key in scores:\n",
    "    print(\"Key:\", key, \"Value:\", scores[key])"
   ]
  },
  {
   "cell_type": "markdown",
   "metadata": {},
   "source": [
    "To iterate through two containers at once, use the ```zip()``` function."
   ]
  },
  {
   "cell_type": "code",
   "execution_count": 35,
   "metadata": {},
   "outputs": [
    {
     "name": "stdout",
     "output_type": "stream",
     "text": [
      "Chicago is in USA\n",
      "London is in England\n",
      "Zuerich is in Switzerland\n",
      "Berlin is in Germany\n"
     ]
    }
   ],
   "source": [
    "cities = [\"Chicago\", \"London\", \"Zuerich\", \"Berlin\"]\n",
    "countries = [\"USA\", \"England\", \"Switzerland\", \"Germany\"]\n",
    "\n",
    "for city, country in zip(cities, countries):\n",
    "    print(city, \"is in\", country)"
   ]
  },
  {
   "cell_type": "markdown",
   "metadata": {},
   "source": [
    "### Exercise: Increment each value in the car brand dictionary by 1 using a for loop"
   ]
  },
  {
   "cell_type": "code",
   "execution_count": 37,
   "metadata": {},
   "outputs": [
    {
     "name": "stdout",
     "output_type": "stream",
     "text": [
      "1\n",
      "6\n",
      "15\n",
      "{'honda': 1, 'volvo': 6, 'saab': 15}\n"
     ]
    }
   ],
   "source": [
    "# the dictionary\n",
    "my_dictionary = {\"honda\": 0, \"volvo\": 5, \"saab\": 14}\n",
    "\n",
    "# enter your code here to increment each car brand by 1\n",
    "\n",
    "for brand in my_dictionary:\n",
    "    my_dictionary[brand] += 1\n",
    "    print(my_dictionary[brand])\n",
    "\n",
    "print(my_dictionary)"
   ]
  },
  {
   "cell_type": "markdown",
   "metadata": {},
   "source": [
    "### Using range() to get indexing variable\n",
    "If we *do* want an incrementing indexing variable we will use the ```range()``` function, which creates a sequence of numbers to iterate through. By default, ```range(x)``` will contain 0 to x-1 in integer steps. We can also add more parameters to define *start, stop, step size*: ```range(start, stop, step)```. Note that *start* is inclusive, while *stop* is not. *Step* can either be positive or negative, but needs to be integer.\n",
    "\n",
    "It's common to combine ```range()``` and ```len()``` to iterate through the indices of a container."
   ]
  },
  {
   "cell_type": "code",
   "execution_count": 38,
   "metadata": {},
   "outputs": [
    {
     "name": "stdout",
     "output_type": "stream",
     "text": [
      "0\n",
      "1\n",
      "2\n",
      "3\n",
      "4\n",
      "5\n",
      "6\n",
      "7\n",
      "8\n",
      "9\n"
     ]
    }
   ],
   "source": [
    "# iterate i from 0 to 9\n",
    "for i in range(10):\n",
    "    print(i)"
   ]
  },
  {
   "cell_type": "code",
   "execution_count": 39,
   "metadata": {},
   "outputs": [
    {
     "name": "stdout",
     "output_type": "stream",
     "text": [
      "apple is at position number 0 in the list.\n",
      "banana is at position number 1 in the list.\n",
      "feijoa is at position number 2 in the list.\n"
     ]
    }
   ],
   "source": [
    "# using an index to iterate through the fruit list\n",
    "for i in range(len(fruits)):\n",
    "    print(fruits[i], \"is at position number\", i, \"in the list.\")"
   ]
  },
  {
   "cell_type": "code",
   "execution_count": 40,
   "metadata": {},
   "outputs": [
    {
     "name": "stdout",
     "output_type": "stream",
     "text": [
      "10\n",
      "15\n",
      "20\n",
      "25\n",
      "30\n",
      "35\n",
      "40\n",
      "45\n"
     ]
    }
   ],
   "source": [
    "# iterate from 10 to 50 in steps of 5\n",
    "for i in range(10,50,5):\n",
    "    print(i)"
   ]
  },
  {
   "cell_type": "markdown",
   "metadata": {},
   "source": [
    "### Exercise: Print all integers from 100 to 80 backwards in steps of 2"
   ]
  },
  {
   "cell_type": "code",
   "execution_count": 45,
   "metadata": {},
   "outputs": [
    {
     "name": "stdout",
     "output_type": "stream",
     "text": [
      "100\n",
      "98\n",
      "96\n",
      "94\n",
      "92\n",
      "90\n",
      "88\n",
      "86\n",
      "84\n",
      "82\n",
      "80\n"
     ]
    }
   ],
   "source": [
    "# enter your code here\n",
    "\n",
    "for i in range(100, 79, -2):\n",
    "    print(i)"
   ]
  },
  {
   "cell_type": "markdown",
   "metadata": {},
   "source": [
    "### While loops\n",
    "```while(condition)``` loops will keep iterating until the given condition is no longer true. For example, ```while(x < 5)``` will keep executing its block of code until x is NOT less than 5.\n",
    "\n",
    "The condition is checked before each time the block in the loop is run."
   ]
  },
  {
   "cell_type": "code",
   "execution_count": 46,
   "metadata": {},
   "outputs": [
    {
     "name": "stdout",
     "output_type": "stream",
     "text": [
      "inside the loop, and x is 0\n",
      "inside the loop, and x is 1\n",
      "inside the loop, and x is 2\n",
      "inside the loop, and x is 3\n",
      "inside the loop, and x is 4\n",
      "outside the loop, and x is 5\n"
     ]
    }
   ],
   "source": [
    "x = 0\n",
    "\n",
    "while(x < 5):\n",
    "    print(\"inside the loop, and x is\", x)\n",
    "    # increment x\n",
    "    x += 1\n",
    "print(\"outside the loop, and x is\",x)"
   ]
  },
  {
   "cell_type": "markdown",
   "metadata": {},
   "source": [
    "A simple use of a while loop is to check that user input satisfies certain criteria. A for loop would not be very suitable for this, since we don't know how many tries it would take before the user gets it correctly.\n",
    "\n",
    "Below is an example of entering the correct name for a roman emperor. *Note that if you get it correctly the first try, you will not even enter the loop!*\n",
    "\n",
    "The ```input(\"some message\")``` function will prompt the user for an input in the console, and then return that input as its return value."
   ]
  },
  {
   "cell_type": "code",
   "execution_count": 47,
   "metadata": {},
   "outputs": [],
   "source": [
    "emperor_name = input(\"Please enter the name of the Roman Emperor ruling between 27 BC - AD 14: \")\n",
    "while(emperor_name != \"Augustus Caesar\"):\n",
    "    emperor_name = input(\"Wrong name, please try again: \")\n",
    "print(\"That is correct!\")"
   ]
  },
  {
   "cell_type": "markdown",
   "metadata": {},
   "source": [
    "### Avoiding infinite loops\n",
    "When you write a while loop, you *NEED* to make sure that the loop has an **exit condition**. If there is no chance for the condition to be false, then you will have an infinite loop, and the rest of your code will not run. For example, ```while(True): doSomething()``` would run infinitely since True is never False (duh)."
   ]
  },
  {
   "cell_type": "markdown",
   "metadata": {},
   "source": [
    "### Exercise: Create a variable x = 2 and create a while loop with condition x <= 1024. In the loop, update x by squaring it. Count how many times the loop runs before exiting.\n",
    "\n",
    "**Hint:** Use a variable i to keep track of how many times the loop has executed."
   ]
  },
  {
   "cell_type": "code",
   "execution_count": 2,
   "metadata": {},
   "outputs": [
    {
     "name": "stdout",
     "output_type": "stream",
     "text": [
      "2\n",
      "4\n",
      "8\n",
      "16\n",
      "32\n",
      "64\n",
      "128\n",
      "256\n",
      "512\n",
      "1024\n",
      "X to the power of  10  equals  1024.0\n"
     ]
    }
   ],
   "source": [
    "# enter your code here!\n",
    "\n",
    "x = 2\n",
    "i = 0\n",
    "\n",
    "while x <= 1024:\n",
    "    print (x)\n",
    "    i += 1\n",
    "    x *= 2\n",
    "\n",
    "print(\"X to the power of \", i, \" equals \", x/2)"
   ]
  },
  {
   "cell_type": "markdown",
   "metadata": {},
   "source": [
    "## 7. Functions"
   ]
  },
  {
   "cell_type": "markdown",
   "metadata": {},
   "source": [
    "In the class saw all the main elements composing a function. Let's see an example of it."
   ]
  },
  {
   "cell_type": "code",
   "execution_count": 3,
   "metadata": {},
   "outputs": [],
   "source": [
    "def my_function(param1, param2 = 3):\n",
    "    if param1 == param2: \n",
    "        print(\"The 2 parameters have the same value\")\n",
    "        return None\n",
    "    else: \n",
    "        summe = param1 + param2\n",
    "        print(summe)\n",
    "        return summe"
   ]
  },
  {
   "cell_type": "code",
   "execution_count": 4,
   "metadata": {},
   "outputs": [
    {
     "name": "stdout",
     "output_type": "stream",
     "text": [
      "4\n",
      "7.0\n",
      "The 2 parameters have the same value\n",
      "The 2 parameters have the same value\n"
     ]
    }
   ],
   "source": [
    "my_function(1)\n",
    "my_function(1.4, 5.6)\n",
    "my_function(3)\n",
    "my_function(3,3)\n"
   ]
  },
  {
   "cell_type": "markdown",
   "metadata": {},
   "source": [
    "### Exercise: Define your own function which accepts 1 string input (default being \"Annina\"). If the string ends with letter \"a\" or \"e\", function will print \"Dear Mrs\" and the input, otherwise will print \"Dear Mr\" and the input. Return the number of letters in the input. "
   ]
  },
  {
   "cell_type": "code",
   "execution_count": 8,
   "metadata": {},
   "outputs": [
    {
     "name": "stdout",
     "output_type": "stream",
     "text": [
      "Dear Mrs Bea\n",
      "3\n"
     ]
    }
   ],
   "source": [
    "# enter your code here!\n",
    "\n",
    "def Anrede (Name = \"Annina\"):\n",
    "    if Name.endswith(\"e\") or Name.endswith(\"a\"):\n",
    "        print(\"Dear Mrs \" + Name)\n",
    "    else:\n",
    "        print(\"Dear Mr \" + Name)\n",
    "    print(len(Name))\n",
    "\n",
    "Anrede(input(\"Please enter your Name: \"))"
   ]
  },
  {
   "cell_type": "markdown",
   "metadata": {},
   "source": [
    "## 8. Challenges\n",
    "\n",
    "#### 1. Print all numbers between 0-99 divisible by 7"
   ]
  },
  {
   "cell_type": "code",
   "execution_count": 9,
   "metadata": {},
   "outputs": [
    {
     "name": "stdout",
     "output_type": "stream",
     "text": [
      "[0, 7, 14, 21, 28, 35, 42, 49, 56, 63, 70, 77, 84, 91, 98]\n"
     ]
    }
   ],
   "source": [
    "# enter your code here\n",
    "\n",
    "Correct = []\n",
    "\n",
    "def Div7(Number):\n",
    "    if Number % 7 == 0:\n",
    "        Correct.append(Number)\n",
    "\n",
    "for i in range(0, 100, 1):\n",
    "    Div7(i)\n",
    "\n",
    "print(Correct)"
   ]
  },
  {
   "cell_type": "markdown",
   "metadata": {},
   "source": [
    "#### 2. Roll a dice 1000 times and store the results in a dictionary\n",
    "Use the following code to simulate a dice roll. To ask for user's input, use input() https://www.w3schools.com/python/ref_func_input.asp)"
   ]
  },
  {
   "cell_type": "code",
   "execution_count": 5,
   "metadata": {},
   "outputs": [
    {
     "name": "stdout",
     "output_type": "stream",
     "text": [
      "2\n"
     ]
    }
   ],
   "source": [
    "from random import randint as dice\n",
    "\n",
    "# call dice(1,6) to get a random number between 1 and 6 (inclusive)\n",
    "x = dice(1,6)\n",
    "print(x)\n"
   ]
  },
  {
   "cell_type": "markdown",
   "metadata": {},
   "source": [
    "**HINTS**\n",
    "* What should the keys and the values be of the dictionary?\n",
    "* Print the dictionary, does the distribution make sense?\n"
   ]
  },
  {
   "cell_type": "code",
   "execution_count": 23,
   "metadata": {},
   "outputs": [
    {
     "name": "stdout",
     "output_type": "stream",
     "text": [
      "{'Roll number 1': 1, 'Roll number 2': 6, 'Roll number 3': 3, 'Roll number 4': 3, 'Roll number 5': 1, 'Roll number 6': 5, 'Roll number 7': 5, 'Roll number 8': 1, 'Roll number 9': 1, 'Roll number 10': 3, 'Roll number 11': 2, 'Roll number 12': 3, 'Roll number 13': 3, 'Roll number 14': 1, 'Roll number 15': 2, 'Roll number 16': 2, 'Roll number 17': 6, 'Roll number 18': 1, 'Roll number 19': 2, 'Roll number 20': 2, 'Roll number 21': 5, 'Roll number 22': 5, 'Roll number 23': 2, 'Roll number 24': 2, 'Roll number 25': 5, 'Roll number 26': 3, 'Roll number 27': 1, 'Roll number 28': 2, 'Roll number 29': 1, 'Roll number 30': 6, 'Roll number 31': 5, 'Roll number 32': 2, 'Roll number 33': 4, 'Roll number 34': 4, 'Roll number 35': 4, 'Roll number 36': 1, 'Roll number 37': 2, 'Roll number 38': 6, 'Roll number 39': 4, 'Roll number 40': 6, 'Roll number 41': 5, 'Roll number 42': 6, 'Roll number 43': 2, 'Roll number 44': 4, 'Roll number 45': 2, 'Roll number 46': 5, 'Roll number 47': 3, 'Roll number 48': 3, 'Roll number 49': 1, 'Roll number 50': 1, 'Roll number 51': 4, 'Roll number 52': 2, 'Roll number 53': 2, 'Roll number 54': 6, 'Roll number 55': 1, 'Roll number 56': 3, 'Roll number 57': 5, 'Roll number 58': 2, 'Roll number 59': 6, 'Roll number 60': 4, 'Roll number 61': 6, 'Roll number 62': 3, 'Roll number 63': 1, 'Roll number 64': 5, 'Roll number 65': 1, 'Roll number 66': 2, 'Roll number 67': 3, 'Roll number 68': 2, 'Roll number 69': 4, 'Roll number 70': 3, 'Roll number 71': 1, 'Roll number 72': 2, 'Roll number 73': 5, 'Roll number 74': 6, 'Roll number 75': 4, 'Roll number 76': 5, 'Roll number 77': 4, 'Roll number 78': 4, 'Roll number 79': 2, 'Roll number 80': 6, 'Roll number 81': 1, 'Roll number 82': 5, 'Roll number 83': 3, 'Roll number 84': 6, 'Roll number 85': 4, 'Roll number 86': 1, 'Roll number 87': 3, 'Roll number 88': 5, 'Roll number 89': 6, 'Roll number 90': 6, 'Roll number 91': 6, 'Roll number 92': 2, 'Roll number 93': 5, 'Roll number 94': 4, 'Roll number 95': 4, 'Roll number 96': 2, 'Roll number 97': 2, 'Roll number 98': 2, 'Roll number 99': 2, 'Roll number 100': 4, 'Roll number 101': 2, 'Roll number 102': 6, 'Roll number 103': 5, 'Roll number 104': 2, 'Roll number 105': 4, 'Roll number 106': 4, 'Roll number 107': 2, 'Roll number 108': 5, 'Roll number 109': 2, 'Roll number 110': 1, 'Roll number 111': 1, 'Roll number 112': 1, 'Roll number 113': 6, 'Roll number 114': 3, 'Roll number 115': 6, 'Roll number 116': 2, 'Roll number 117': 3, 'Roll number 118': 4, 'Roll number 119': 5, 'Roll number 120': 6, 'Roll number 121': 2, 'Roll number 122': 1, 'Roll number 123': 2, 'Roll number 124': 4, 'Roll number 125': 3, 'Roll number 126': 3, 'Roll number 127': 5, 'Roll number 128': 6, 'Roll number 129': 3, 'Roll number 130': 4, 'Roll number 131': 3, 'Roll number 132': 4, 'Roll number 133': 2, 'Roll number 134': 6, 'Roll number 135': 4, 'Roll number 136': 4, 'Roll number 137': 1, 'Roll number 138': 1, 'Roll number 139': 3, 'Roll number 140': 1, 'Roll number 141': 6, 'Roll number 142': 4, 'Roll number 143': 3, 'Roll number 144': 3, 'Roll number 145': 4, 'Roll number 146': 5, 'Roll number 147': 3, 'Roll number 148': 1, 'Roll number 149': 3, 'Roll number 150': 2, 'Roll number 151': 5, 'Roll number 152': 4, 'Roll number 153': 6, 'Roll number 154': 2, 'Roll number 155': 5, 'Roll number 156': 6, 'Roll number 157': 5, 'Roll number 158': 4, 'Roll number 159': 2, 'Roll number 160': 5, 'Roll number 161': 6, 'Roll number 162': 5, 'Roll number 163': 4, 'Roll number 164': 6, 'Roll number 165': 1, 'Roll number 166': 3, 'Roll number 167': 1, 'Roll number 168': 6, 'Roll number 169': 4, 'Roll number 170': 2, 'Roll number 171': 3, 'Roll number 172': 5, 'Roll number 173': 1, 'Roll number 174': 3, 'Roll number 175': 6, 'Roll number 176': 1, 'Roll number 177': 4, 'Roll number 178': 6, 'Roll number 179': 4, 'Roll number 180': 3, 'Roll number 181': 2, 'Roll number 182': 3, 'Roll number 183': 1, 'Roll number 184': 1, 'Roll number 185': 3, 'Roll number 186': 2, 'Roll number 187': 5, 'Roll number 188': 5, 'Roll number 189': 4, 'Roll number 190': 1, 'Roll number 191': 3, 'Roll number 192': 2, 'Roll number 193': 3, 'Roll number 194': 2, 'Roll number 195': 5, 'Roll number 196': 6, 'Roll number 197': 2, 'Roll number 198': 2, 'Roll number 199': 2, 'Roll number 200': 5, 'Roll number 201': 4, 'Roll number 202': 1, 'Roll number 203': 1, 'Roll number 204': 3, 'Roll number 205': 5, 'Roll number 206': 2, 'Roll number 207': 2, 'Roll number 208': 1, 'Roll number 209': 1, 'Roll number 210': 3, 'Roll number 211': 4, 'Roll number 212': 1, 'Roll number 213': 2, 'Roll number 214': 4, 'Roll number 215': 2, 'Roll number 216': 4, 'Roll number 217': 5, 'Roll number 218': 1, 'Roll number 219': 3, 'Roll number 220': 3, 'Roll number 221': 3, 'Roll number 222': 6, 'Roll number 223': 6, 'Roll number 224': 5, 'Roll number 225': 3, 'Roll number 226': 2, 'Roll number 227': 4, 'Roll number 228': 4, 'Roll number 229': 2, 'Roll number 230': 5, 'Roll number 231': 5, 'Roll number 232': 6, 'Roll number 233': 3, 'Roll number 234': 3, 'Roll number 235': 1, 'Roll number 236': 6, 'Roll number 237': 4, 'Roll number 238': 1, 'Roll number 239': 6, 'Roll number 240': 4, 'Roll number 241': 3, 'Roll number 242': 3, 'Roll number 243': 6, 'Roll number 244': 5, 'Roll number 245': 5, 'Roll number 246': 1, 'Roll number 247': 2, 'Roll number 248': 5, 'Roll number 249': 4, 'Roll number 250': 4, 'Roll number 251': 5, 'Roll number 252': 6, 'Roll number 253': 3, 'Roll number 254': 1, 'Roll number 255': 3, 'Roll number 256': 6, 'Roll number 257': 2, 'Roll number 258': 2, 'Roll number 259': 5, 'Roll number 260': 2, 'Roll number 261': 4, 'Roll number 262': 2, 'Roll number 263': 3, 'Roll number 264': 3, 'Roll number 265': 2, 'Roll number 266': 2, 'Roll number 267': 2, 'Roll number 268': 3, 'Roll number 269': 6, 'Roll number 270': 2, 'Roll number 271': 3, 'Roll number 272': 5, 'Roll number 273': 4, 'Roll number 274': 6, 'Roll number 275': 1, 'Roll number 276': 5, 'Roll number 277': 6, 'Roll number 278': 6, 'Roll number 279': 4, 'Roll number 280': 5, 'Roll number 281': 3, 'Roll number 282': 5, 'Roll number 283': 6, 'Roll number 284': 5, 'Roll number 285': 4, 'Roll number 286': 1, 'Roll number 287': 1, 'Roll number 288': 5, 'Roll number 289': 5, 'Roll number 290': 3, 'Roll number 291': 1, 'Roll number 292': 5, 'Roll number 293': 5, 'Roll number 294': 1, 'Roll number 295': 1, 'Roll number 296': 2, 'Roll number 297': 3, 'Roll number 298': 4, 'Roll number 299': 2, 'Roll number 300': 2, 'Roll number 301': 1, 'Roll number 302': 6, 'Roll number 303': 6, 'Roll number 304': 4, 'Roll number 305': 6, 'Roll number 306': 6, 'Roll number 307': 3, 'Roll number 308': 3, 'Roll number 309': 2, 'Roll number 310': 5, 'Roll number 311': 1, 'Roll number 312': 3, 'Roll number 313': 6, 'Roll number 314': 1, 'Roll number 315': 1, 'Roll number 316': 4, 'Roll number 317': 6, 'Roll number 318': 6, 'Roll number 319': 2, 'Roll number 320': 1, 'Roll number 321': 5, 'Roll number 322': 3, 'Roll number 323': 6, 'Roll number 324': 2, 'Roll number 325': 5, 'Roll number 326': 1, 'Roll number 327': 3, 'Roll number 328': 3, 'Roll number 329': 2, 'Roll number 330': 4, 'Roll number 331': 6, 'Roll number 332': 2, 'Roll number 333': 5, 'Roll number 334': 1, 'Roll number 335': 2, 'Roll number 336': 1, 'Roll number 337': 5, 'Roll number 338': 4, 'Roll number 339': 6, 'Roll number 340': 1, 'Roll number 341': 2, 'Roll number 342': 1, 'Roll number 343': 3, 'Roll number 344': 5, 'Roll number 345': 5, 'Roll number 346': 5, 'Roll number 347': 2, 'Roll number 348': 6, 'Roll number 349': 5, 'Roll number 350': 5, 'Roll number 351': 2, 'Roll number 352': 5, 'Roll number 353': 1, 'Roll number 354': 6, 'Roll number 355': 4, 'Roll number 356': 5, 'Roll number 357': 3, 'Roll number 358': 3, 'Roll number 359': 5, 'Roll number 360': 2, 'Roll number 361': 4, 'Roll number 362': 6, 'Roll number 363': 3, 'Roll number 364': 2, 'Roll number 365': 5, 'Roll number 366': 3, 'Roll number 367': 3, 'Roll number 368': 1, 'Roll number 369': 4, 'Roll number 370': 2, 'Roll number 371': 5, 'Roll number 372': 1, 'Roll number 373': 2, 'Roll number 374': 4, 'Roll number 375': 6, 'Roll number 376': 4, 'Roll number 377': 3, 'Roll number 378': 3, 'Roll number 379': 2, 'Roll number 380': 5, 'Roll number 381': 5, 'Roll number 382': 3, 'Roll number 383': 4, 'Roll number 384': 4, 'Roll number 385': 2, 'Roll number 386': 4, 'Roll number 387': 2, 'Roll number 388': 6, 'Roll number 389': 4, 'Roll number 390': 3, 'Roll number 391': 3, 'Roll number 392': 3, 'Roll number 393': 2, 'Roll number 394': 4, 'Roll number 395': 3, 'Roll number 396': 4, 'Roll number 397': 5, 'Roll number 398': 2, 'Roll number 399': 1, 'Roll number 400': 1, 'Roll number 401': 6, 'Roll number 402': 5, 'Roll number 403': 2, 'Roll number 404': 4, 'Roll number 405': 4, 'Roll number 406': 2, 'Roll number 407': 4, 'Roll number 408': 6, 'Roll number 409': 2, 'Roll number 410': 5, 'Roll number 411': 2, 'Roll number 412': 3, 'Roll number 413': 6, 'Roll number 414': 4, 'Roll number 415': 2, 'Roll number 416': 3, 'Roll number 417': 2, 'Roll number 418': 5, 'Roll number 419': 5, 'Roll number 420': 6, 'Roll number 421': 2, 'Roll number 422': 5, 'Roll number 423': 3, 'Roll number 424': 4, 'Roll number 425': 6, 'Roll number 426': 3, 'Roll number 427': 5, 'Roll number 428': 3, 'Roll number 429': 5, 'Roll number 430': 6, 'Roll number 431': 5, 'Roll number 432': 5, 'Roll number 433': 3, 'Roll number 434': 4, 'Roll number 435': 5, 'Roll number 436': 6, 'Roll number 437': 3, 'Roll number 438': 5, 'Roll number 439': 1, 'Roll number 440': 3, 'Roll number 441': 6, 'Roll number 442': 5, 'Roll number 443': 1, 'Roll number 444': 2, 'Roll number 445': 4, 'Roll number 446': 4, 'Roll number 447': 3, 'Roll number 448': 4, 'Roll number 449': 2, 'Roll number 450': 6, 'Roll number 451': 2, 'Roll number 452': 2, 'Roll number 453': 5, 'Roll number 454': 2, 'Roll number 455': 3, 'Roll number 456': 1, 'Roll number 457': 1, 'Roll number 458': 2, 'Roll number 459': 3, 'Roll number 460': 5, 'Roll number 461': 3, 'Roll number 462': 4, 'Roll number 463': 6, 'Roll number 464': 1, 'Roll number 465': 5, 'Roll number 466': 4, 'Roll number 467': 5, 'Roll number 468': 3, 'Roll number 469': 4, 'Roll number 470': 1, 'Roll number 471': 6, 'Roll number 472': 2, 'Roll number 473': 3, 'Roll number 474': 2, 'Roll number 475': 4, 'Roll number 476': 3, 'Roll number 477': 3, 'Roll number 478': 5, 'Roll number 479': 6, 'Roll number 480': 5, 'Roll number 481': 2, 'Roll number 482': 3, 'Roll number 483': 5, 'Roll number 484': 3, 'Roll number 485': 1, 'Roll number 486': 2, 'Roll number 487': 1, 'Roll number 488': 2, 'Roll number 489': 1, 'Roll number 490': 1, 'Roll number 491': 6, 'Roll number 492': 2, 'Roll number 493': 1, 'Roll number 494': 6, 'Roll number 495': 5, 'Roll number 496': 4, 'Roll number 497': 3, 'Roll number 498': 3, 'Roll number 499': 6, 'Roll number 500': 4, 'Roll number 501': 4, 'Roll number 502': 6, 'Roll number 503': 2, 'Roll number 504': 1, 'Roll number 505': 1, 'Roll number 506': 1, 'Roll number 507': 6, 'Roll number 508': 5, 'Roll number 509': 3, 'Roll number 510': 3, 'Roll number 511': 2, 'Roll number 512': 5, 'Roll number 513': 2, 'Roll number 514': 4, 'Roll number 515': 5, 'Roll number 516': 2, 'Roll number 517': 3, 'Roll number 518': 4, 'Roll number 519': 3, 'Roll number 520': 5, 'Roll number 521': 6, 'Roll number 522': 6, 'Roll number 523': 5, 'Roll number 524': 4, 'Roll number 525': 2, 'Roll number 526': 2, 'Roll number 527': 1, 'Roll number 528': 5, 'Roll number 529': 1, 'Roll number 530': 1, 'Roll number 531': 1, 'Roll number 532': 4, 'Roll number 533': 6, 'Roll number 534': 5, 'Roll number 535': 4, 'Roll number 536': 6, 'Roll number 537': 3, 'Roll number 538': 6, 'Roll number 539': 6, 'Roll number 540': 6, 'Roll number 541': 3, 'Roll number 542': 1, 'Roll number 543': 4, 'Roll number 544': 4, 'Roll number 545': 4, 'Roll number 546': 3, 'Roll number 547': 5, 'Roll number 548': 2, 'Roll number 549': 2, 'Roll number 550': 6, 'Roll number 551': 6, 'Roll number 552': 6, 'Roll number 553': 3, 'Roll number 554': 4, 'Roll number 555': 4, 'Roll number 556': 5, 'Roll number 557': 5, 'Roll number 558': 6, 'Roll number 559': 6, 'Roll number 560': 6, 'Roll number 561': 5, 'Roll number 562': 6, 'Roll number 563': 6, 'Roll number 564': 2, 'Roll number 565': 2, 'Roll number 566': 2, 'Roll number 567': 1, 'Roll number 568': 6, 'Roll number 569': 2, 'Roll number 570': 5, 'Roll number 571': 4, 'Roll number 572': 3, 'Roll number 573': 3, 'Roll number 574': 4, 'Roll number 575': 4, 'Roll number 576': 6, 'Roll number 577': 2, 'Roll number 578': 2, 'Roll number 579': 3, 'Roll number 580': 4, 'Roll number 581': 3, 'Roll number 582': 1, 'Roll number 583': 4, 'Roll number 584': 1, 'Roll number 585': 1, 'Roll number 586': 3, 'Roll number 587': 3, 'Roll number 588': 2, 'Roll number 589': 4, 'Roll number 590': 2, 'Roll number 591': 3, 'Roll number 592': 6, 'Roll number 593': 6, 'Roll number 594': 2, 'Roll number 595': 2, 'Roll number 596': 4, 'Roll number 597': 3, 'Roll number 598': 3, 'Roll number 599': 2, 'Roll number 600': 5, 'Roll number 601': 2, 'Roll number 602': 6, 'Roll number 603': 6, 'Roll number 604': 5, 'Roll number 605': 4, 'Roll number 606': 4, 'Roll number 607': 5, 'Roll number 608': 6, 'Roll number 609': 3, 'Roll number 610': 6, 'Roll number 611': 4, 'Roll number 612': 1, 'Roll number 613': 3, 'Roll number 614': 4, 'Roll number 615': 2, 'Roll number 616': 5, 'Roll number 617': 2, 'Roll number 618': 4, 'Roll number 619': 3, 'Roll number 620': 3, 'Roll number 621': 3, 'Roll number 622': 5, 'Roll number 623': 5, 'Roll number 624': 1, 'Roll number 625': 4, 'Roll number 626': 3, 'Roll number 627': 6, 'Roll number 628': 2, 'Roll number 629': 5, 'Roll number 630': 3, 'Roll number 631': 5, 'Roll number 632': 1, 'Roll number 633': 1, 'Roll number 634': 3, 'Roll number 635': 6, 'Roll number 636': 3, 'Roll number 637': 1, 'Roll number 638': 4, 'Roll number 639': 5, 'Roll number 640': 6, 'Roll number 641': 3, 'Roll number 642': 1, 'Roll number 643': 1, 'Roll number 644': 4, 'Roll number 645': 1, 'Roll number 646': 5, 'Roll number 647': 1, 'Roll number 648': 2, 'Roll number 649': 3, 'Roll number 650': 3, 'Roll number 651': 2, 'Roll number 652': 2, 'Roll number 653': 4, 'Roll number 654': 6, 'Roll number 655': 5, 'Roll number 656': 5, 'Roll number 657': 6, 'Roll number 658': 2, 'Roll number 659': 2, 'Roll number 660': 6, 'Roll number 661': 5, 'Roll number 662': 4, 'Roll number 663': 2, 'Roll number 664': 3, 'Roll number 665': 2, 'Roll number 666': 3, 'Roll number 667': 2, 'Roll number 668': 1, 'Roll number 669': 5, 'Roll number 670': 2, 'Roll number 671': 3, 'Roll number 672': 5, 'Roll number 673': 1, 'Roll number 674': 2, 'Roll number 675': 2, 'Roll number 676': 4, 'Roll number 677': 1, 'Roll number 678': 1, 'Roll number 679': 6, 'Roll number 680': 3, 'Roll number 681': 3, 'Roll number 682': 1, 'Roll number 683': 3, 'Roll number 684': 2, 'Roll number 685': 3, 'Roll number 686': 4, 'Roll number 687': 2, 'Roll number 688': 3, 'Roll number 689': 3, 'Roll number 690': 3, 'Roll number 691': 5, 'Roll number 692': 3, 'Roll number 693': 6, 'Roll number 694': 5, 'Roll number 695': 6, 'Roll number 696': 2, 'Roll number 697': 5, 'Roll number 698': 5, 'Roll number 699': 5, 'Roll number 700': 5, 'Roll number 701': 1, 'Roll number 702': 6, 'Roll number 703': 6, 'Roll number 704': 2, 'Roll number 705': 1, 'Roll number 706': 4, 'Roll number 707': 1, 'Roll number 708': 3, 'Roll number 709': 2, 'Roll number 710': 4, 'Roll number 711': 1, 'Roll number 712': 5, 'Roll number 713': 4, 'Roll number 714': 3, 'Roll number 715': 1, 'Roll number 716': 5, 'Roll number 717': 2, 'Roll number 718': 2, 'Roll number 719': 3, 'Roll number 720': 3, 'Roll number 721': 5, 'Roll number 722': 1, 'Roll number 723': 3, 'Roll number 724': 3, 'Roll number 725': 5, 'Roll number 726': 5, 'Roll number 727': 2, 'Roll number 728': 2, 'Roll number 729': 6, 'Roll number 730': 4, 'Roll number 731': 5, 'Roll number 732': 2, 'Roll number 733': 6, 'Roll number 734': 2, 'Roll number 735': 6, 'Roll number 736': 2, 'Roll number 737': 2, 'Roll number 738': 6, 'Roll number 739': 1, 'Roll number 740': 6, 'Roll number 741': 6, 'Roll number 742': 1, 'Roll number 743': 1, 'Roll number 744': 3, 'Roll number 745': 3, 'Roll number 746': 5, 'Roll number 747': 1, 'Roll number 748': 2, 'Roll number 749': 5, 'Roll number 750': 4, 'Roll number 751': 3, 'Roll number 752': 4, 'Roll number 753': 1, 'Roll number 754': 1, 'Roll number 755': 6, 'Roll number 756': 4, 'Roll number 757': 5, 'Roll number 758': 3, 'Roll number 759': 4, 'Roll number 760': 1, 'Roll number 761': 6, 'Roll number 762': 2, 'Roll number 763': 4, 'Roll number 764': 4, 'Roll number 765': 4, 'Roll number 766': 4, 'Roll number 767': 1, 'Roll number 768': 2, 'Roll number 769': 3, 'Roll number 770': 4, 'Roll number 771': 4, 'Roll number 772': 4, 'Roll number 773': 4, 'Roll number 774': 4, 'Roll number 775': 6, 'Roll number 776': 2, 'Roll number 777': 5, 'Roll number 778': 1, 'Roll number 779': 5, 'Roll number 780': 5, 'Roll number 781': 2, 'Roll number 782': 4, 'Roll number 783': 2, 'Roll number 784': 1, 'Roll number 785': 4, 'Roll number 786': 1, 'Roll number 787': 5, 'Roll number 788': 5, 'Roll number 789': 1, 'Roll number 790': 6, 'Roll number 791': 6, 'Roll number 792': 4, 'Roll number 793': 1, 'Roll number 794': 2, 'Roll number 795': 1, 'Roll number 796': 3, 'Roll number 797': 6, 'Roll number 798': 3, 'Roll number 799': 4, 'Roll number 800': 5, 'Roll number 801': 4, 'Roll number 802': 1, 'Roll number 803': 2, 'Roll number 804': 6, 'Roll number 805': 4, 'Roll number 806': 3, 'Roll number 807': 5, 'Roll number 808': 6, 'Roll number 809': 3, 'Roll number 810': 6, 'Roll number 811': 3, 'Roll number 812': 6, 'Roll number 813': 6, 'Roll number 814': 4, 'Roll number 815': 5, 'Roll number 816': 2, 'Roll number 817': 5, 'Roll number 818': 2, 'Roll number 819': 5, 'Roll number 820': 1, 'Roll number 821': 4, 'Roll number 822': 5, 'Roll number 823': 5, 'Roll number 824': 2, 'Roll number 825': 6, 'Roll number 826': 1, 'Roll number 827': 3, 'Roll number 828': 2, 'Roll number 829': 2, 'Roll number 830': 2, 'Roll number 831': 3, 'Roll number 832': 3, 'Roll number 833': 6, 'Roll number 834': 6, 'Roll number 835': 5, 'Roll number 836': 5, 'Roll number 837': 2, 'Roll number 838': 3, 'Roll number 839': 3, 'Roll number 840': 6, 'Roll number 841': 2, 'Roll number 842': 4, 'Roll number 843': 6, 'Roll number 844': 2, 'Roll number 845': 4, 'Roll number 846': 4, 'Roll number 847': 1, 'Roll number 848': 3, 'Roll number 849': 4, 'Roll number 850': 2, 'Roll number 851': 1, 'Roll number 852': 2, 'Roll number 853': 3, 'Roll number 854': 6, 'Roll number 855': 5, 'Roll number 856': 5, 'Roll number 857': 5, 'Roll number 858': 3, 'Roll number 859': 3, 'Roll number 860': 4, 'Roll number 861': 4, 'Roll number 862': 1, 'Roll number 863': 6, 'Roll number 864': 1, 'Roll number 865': 3, 'Roll number 866': 6, 'Roll number 867': 4, 'Roll number 868': 4, 'Roll number 869': 2, 'Roll number 870': 3, 'Roll number 871': 6, 'Roll number 872': 6, 'Roll number 873': 3, 'Roll number 874': 4, 'Roll number 875': 3, 'Roll number 876': 6, 'Roll number 877': 4, 'Roll number 878': 4, 'Roll number 879': 2, 'Roll number 880': 6, 'Roll number 881': 6, 'Roll number 882': 6, 'Roll number 883': 2, 'Roll number 884': 3, 'Roll number 885': 4, 'Roll number 886': 4, 'Roll number 887': 4, 'Roll number 888': 4, 'Roll number 889': 3, 'Roll number 890': 4, 'Roll number 891': 3, 'Roll number 892': 5, 'Roll number 893': 6, 'Roll number 894': 1, 'Roll number 895': 6, 'Roll number 896': 5, 'Roll number 897': 6, 'Roll number 898': 1, 'Roll number 899': 1, 'Roll number 900': 2, 'Roll number 901': 3, 'Roll number 902': 2, 'Roll number 903': 4, 'Roll number 904': 4, 'Roll number 905': 4, 'Roll number 906': 3, 'Roll number 907': 6, 'Roll number 908': 6, 'Roll number 909': 2, 'Roll number 910': 4, 'Roll number 911': 5, 'Roll number 912': 1, 'Roll number 913': 4, 'Roll number 914': 3, 'Roll number 915': 5, 'Roll number 916': 1, 'Roll number 917': 2, 'Roll number 918': 1, 'Roll number 919': 1, 'Roll number 920': 1, 'Roll number 921': 3, 'Roll number 922': 3, 'Roll number 923': 6, 'Roll number 924': 6, 'Roll number 925': 6, 'Roll number 926': 2, 'Roll number 927': 2, 'Roll number 928': 1, 'Roll number 929': 5, 'Roll number 930': 6, 'Roll number 931': 3, 'Roll number 932': 3, 'Roll number 933': 6, 'Roll number 934': 4, 'Roll number 935': 4, 'Roll number 936': 5, 'Roll number 937': 3, 'Roll number 938': 6, 'Roll number 939': 1, 'Roll number 940': 4, 'Roll number 941': 2, 'Roll number 942': 1, 'Roll number 943': 4, 'Roll number 944': 3, 'Roll number 945': 6, 'Roll number 946': 4, 'Roll number 947': 4, 'Roll number 948': 5, 'Roll number 949': 4, 'Roll number 950': 4, 'Roll number 951': 3, 'Roll number 952': 4, 'Roll number 953': 6, 'Roll number 954': 2, 'Roll number 955': 3, 'Roll number 956': 2, 'Roll number 957': 2, 'Roll number 958': 3, 'Roll number 959': 2, 'Roll number 960': 5, 'Roll number 961': 6, 'Roll number 962': 3, 'Roll number 963': 6, 'Roll number 964': 6, 'Roll number 965': 1, 'Roll number 966': 1, 'Roll number 967': 6, 'Roll number 968': 1, 'Roll number 969': 3, 'Roll number 970': 5, 'Roll number 971': 5, 'Roll number 972': 4, 'Roll number 973': 4, 'Roll number 974': 3, 'Roll number 975': 3, 'Roll number 976': 6, 'Roll number 977': 6, 'Roll number 978': 3, 'Roll number 979': 5, 'Roll number 980': 2, 'Roll number 981': 2, 'Roll number 982': 4, 'Roll number 983': 2, 'Roll number 984': 6, 'Roll number 985': 4, 'Roll number 986': 2, 'Roll number 987': 4, 'Roll number 988': 6, 'Roll number 989': 5, 'Roll number 990': 1, 'Roll number 991': 5, 'Roll number 992': 3, 'Roll number 993': 1, 'Roll number 994': 1, 'Roll number 995': 1, 'Roll number 996': 3, 'Roll number 997': 5, 'Roll number 998': 1, 'Roll number 999': 3, 'Roll number 1000': 1}\n"
     ]
    }
   ],
   "source": [
    "# enter your solution here\n",
    "\n",
    "result = {}\n",
    "\n",
    "for i in range(1, 1001, 1):\n",
    "    result[\"Roll number \" + str(i)] = dice(1,6)\n",
    "\n",
    "print(result)"
   ]
  },
  {
   "cell_type": "markdown",
   "metadata": {},
   "source": [
    "#### 3. Do you want to play Rock, Paper, Scissors?"
   ]
  },
  {
   "cell_type": "markdown",
   "metadata": {},
   "source": [
    "Make a Rock-Paper-Scissors game against your computer. (Hint: Ask for player choice (using input, https://www.w3schools.com/python/ref_func_input.asp), let the computer choose a random element from the 3 possible plays (https://docs.python.org/3/library/random.html), compare the two choices, print out a message of congratulations to the winner)\n",
    "\n",
    "Remember the rules:\n",
    "\n",
    "Rock beats scissors <br>\n",
    "Scissors beats paper  <br>\n",
    "Paper beats rock <br>"
   ]
  },
  {
   "cell_type": "code",
   "execution_count": null,
   "metadata": {},
   "outputs": [],
   "source": [
    "from random import choice #to select a random element from the list \n",
    "\n",
    "#insert your code here \n",
    "\n",
    "def KI():\n",
    "    KINum = dice(1,3)\n",
    "    if KINum == 1:\n",
    "        KIText = \"Rock\"\n",
    "    elif KINum == 2:\n",
    "        KIText = \"Paper\"\n",
    "    elif KINum == 3:\n",
    "        KIText = \"Scissor\"\n",
    "    else:\n",
    "        print(\"Fehler bei der Wahl durch den Computer.\")\n",
    "\n",
    "def Player(Choice = 0):\n",
    "    \n",
    "\n",
    "KI()\n",
    "Player(input(\"Was wählst du?\"))\n"
   ]
  }
 ],
 "metadata": {
  "kernelspec": {
   "display_name": "Python 3",
   "language": "python",
   "name": "python3"
  },
  "language_info": {
   "codemirror_mode": {
    "name": "ipython",
    "version": 3
   },
   "file_extension": ".py",
   "mimetype": "text/x-python",
   "name": "python",
   "nbconvert_exporter": "python",
   "pygments_lexer": "ipython3",
   "version": "3.11.5"
  }
 },
 "nbformat": 4,
 "nbformat_minor": 4
}
